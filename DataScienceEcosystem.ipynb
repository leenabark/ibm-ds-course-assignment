{
  "metadata": {
    "kernelspec": {
      "name": "python",
      "display_name": "Python (Pyodide)",
      "language": "python"
    },
    "language_info": {
      "codemirror_mode": {
        "name": "python",
        "version": 3
      },
      "file_extension": ".py",
      "mimetype": "text/x-python",
      "name": "python",
      "nbconvert_exporter": "python",
      "pygments_lexer": "ipython3",
      "version": "3.8"
    }
  },
  "nbformat_minor": 5,
  "nbformat": 4,
  "cells": [
    {
      "id": "1b609c43-7464-4141-b888-ccb76ea69423",
      "cell_type": "markdown",
      "source": "# Data Science Tools and Ecosystem",
      "metadata": {}
    },
    {
      "id": "11d9e225-852c-4ea1-a85e-a05c4bf4d2f0",
      "cell_type": "markdown",
      "source": "In this notebook, Data Science Tools and Ecosystem are summarized.",
      "metadata": {}
    },
    {
      "id": "76dcd8dc-3d60-4c2a-a7b6-a942fd6c9bb1",
      "cell_type": "markdown",
      "source": "Some of the popular languages that Data Scientists use are:\n\n1. Python  \n2. R  \n3. SQL  \n4. Julia  \n5. Scala",
      "metadata": {}
    },
    {
      "id": "41e48bee-b1f1-48bd-9fce-5bf68a78f027",
      "cell_type": "markdown",
      "source": "Some of the commonly used libraries used by Data Scientists include:\n\n1. Pandas  \n2. NumPy  \n3. Matplotlib  \n4. Scikit-learn  \n5. TensorFlow",
      "metadata": {}
    },
    {
      "id": "eb391114-0759-4ffc-85f0-43c233c2b8d3",
      "cell_type": "markdown",
      "source": "| Data Science Tools       |\n|--------------------------|\n| Jupyter Notebook         |\n| RStudio                  |\n| Apache Zeppelin          |\n",
      "metadata": {}
    },
    {
      "id": "455a6878-fc73-400b-9b5e-e5549635cd90",
      "cell_type": "markdown",
      "source": "### Below are a few examples of evaluating arithmetic expressions in Python.\n",
      "metadata": {}
    },
    {
      "id": "effaf57f-3a34-40d4-824e-f7d78363d890",
      "cell_type": "code",
      "source": "# This is a simple arithmetic expression to multiply then add integers.\n(3 * 4) + 5",
      "metadata": {
        "trusted": true
      },
      "outputs": [
        {
          "execution_count": 2,
          "output_type": "execute_result",
          "data": {
            "text/plain": "17"
          },
          "metadata": {}
        }
      ],
      "execution_count": 2
    },
    {
      "id": "7118bfbb-dc7c-4b7c-ba54-ce936f127673",
      "cell_type": "code",
      "source": "# This will convert 200 minutes to hours by dividing by 60.\n200 / 60",
      "metadata": {
        "trusted": true
      },
      "outputs": [
        {
          "execution_count": 3,
          "output_type": "execute_result",
          "data": {
            "text/plain": "3.3333333333333335"
          },
          "metadata": {}
        }
      ],
      "execution_count": 3
    },
    {
      "id": "8627bc8a-b79d-4370-b9fc-0b91d6bc938e",
      "cell_type": "markdown",
      "source": "**Objectives:**\n\n- List popular languages for Data Science  \n- Identify common libraries for data science tasks  \n- Demonstrate arithmetic operations in Python  \n- Use Markdown to format text in Jupyter Notebooks  \n- Understand how to convert time units using Python",
      "metadata": {}
    },
    {
      "id": "42dbfd7c-1b53-416b-91dd-35290971334a",
      "cell_type": "markdown",
      "source": "## Author  \nLina Barkaoui",
      "metadata": {}
    },
    {
      "id": "4b5d881e-50cd-4c11-9ec0-9ee1925e55af",
      "cell_type": "code",
      "source": "",
      "metadata": {
        "trusted": true
      },
      "outputs": [],
      "execution_count": null
    }
  ]
}